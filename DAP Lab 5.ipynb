{
 "cells": [
  {
   "cell_type": "markdown",
   "metadata": {},
   "source": [
    "# DAP Lab 5"
   ]
  },
  {
   "cell_type": "markdown",
   "metadata": {},
   "source": [
    "### 1 Connecting to PostgreSQL from Python"
   ]
  },
  {
   "cell_type": "code",
   "execution_count": 1,
   "metadata": {},
   "outputs": [
    {
     "name": "stdout",
     "output_type": "stream",
     "text": [
      "Error while connecting to PostgreSQL database \"weather\" already exists\n",
      "\n"
     ]
    }
   ],
   "source": [
    "import psycopg2\n",
    "\n",
    "try:\n",
    "    dbConnection = psycopg2.connect(\n",
    "    user = \"dap\",\n",
    "    password = \"dap\",\n",
    "    host = \"192.168.56.30\",\n",
    "    port = \"5432\",\n",
    "    database = \"postgres\")\n",
    "    dbConnection.set_isolation_level(0)\n",
    "    dbCursor = dbConnection.cursor()\n",
    "    dbCursor.execute('CREATE DATABASE weather;')\n",
    "    dbCursor.close()\n",
    "\n",
    "except (Exception , psycopg2.Error) as dbError :\n",
    "    print (\"Error while connecting to PostgreSQL\", dbError)\n",
    "finally:\n",
    "    if(dbConnection): dbConnection.close()"
   ]
  },
  {
   "cell_type": "markdown",
   "metadata": {},
   "source": [
    "### 3 Populating the table on PostgreSQL"
   ]
  },
  {
   "cell_type": "code",
   "execution_count": 2,
   "metadata": {},
   "outputs": [
    {
     "name": "stdout",
     "output_type": "stream",
     "text": [
      "Error while connecting to PostgreSQL relation \"weather\" already exists\n",
      "\n"
     ]
    }
   ],
   "source": [
    "createString = \"\"\"\n",
    "CREATE TABLE weather(\n",
    "date_time timestamp PRIMARY KEY,\n",
    "rain numeric(5,1),\n",
    "temp numeric(5,1),\n",
    "wetb numeric(5,1),\n",
    "dewpt numeric(5,1),\n",
    "vapps numeric(5,1),\n",
    "rhum numeric(5,1),\n",
    "msl numeric(7,1),\n",
    "wdsp integer,\n",
    "wddir integer,\n",
    "ww integer,\n",
    "w integer,\n",
    "sun numeric(5,1),\n",
    "vis integer,\n",
    "clht integer,\n",
    "clamt integer\n",
    ");\n",
    "\"\"\"\n",
    "try:\n",
    "    dbConnection = psycopg2.connect(\n",
    "    user = \"dap\",\n",
    "    password = \"dap\",\n",
    "    host = \"192.168.56.30\",\n",
    "    port = \"5432\",\n",
    "    database = \"weather\")\n",
    "    dbConnection.set_isolation_level(0) # AUTOCOMMIT\n",
    "    dbCursor = dbConnection.cursor()\n",
    "    dbCursor.execute(createString)\n",
    "    dbCursor.close()\n",
    "\n",
    "except (Exception , psycopg2.Error) as dbError :\n",
    "    print (\"Error while connecting to PostgreSQL\", dbError)\n",
    "finally:\n",
    "    if(dbConnection): dbConnection.close()"
   ]
  },
  {
   "cell_type": "code",
   "execution_count": 6,
   "metadata": {},
   "outputs": [
    {
     "name": "stdout",
     "output_type": "stream",
     "text": [
      "Error: duplicate key value violates unique constraint \"weather_pkey\"\n",
      "DETAIL:  Key (date_time)=(2010-01-01 00:00:00) already exists.\n",
      "\n"
     ]
    }
   ],
   "source": [
    "import csv\n",
    "try:\n",
    "    dbConnection = psycopg2.connect(\n",
    "        user = \"dap\",\n",
    "        password = \"dap\",\n",
    "        host = \"192.168.56.30\",\n",
    "        port = \"5432\",\n",
    "        database = \"weather\")\n",
    "    dbConnection.set_isolation_level(0) # AUTOCOMMIT\n",
    "    dbCursor = dbConnection.cursor()\n",
    "    insertString = \"INSERT INTO weather VALUES ('{}',\"+\"{},\"*14+\"{})\"\n",
    "    with open('Downloads/weather.csv', 'r') as f:\n",
    "        reader = csv.reader(f)\n",
    "        next(reader) # skip the header\n",
    "        for row in reader:\n",
    "            dbCursor.execute(insertString.format(*row))\n",
    "    conn.commit()\n",
    "    dbCursor.close()\n",
    "except (Exception , psycopg2.Error) as dbError :\n",
    "    print (\"Error:\", dbError)\n",
    "finally:\n",
    "    if(dbConnection): dbConnection.close()\n"
   ]
  },
  {
   "cell_type": "markdown",
   "metadata": {},
   "source": [
    "### 4 Querying the table\n",
    "\n",
    "### 5 Display a bar chart of temperatures by month"
   ]
  },
  {
   "cell_type": "code",
   "execution_count": 14,
   "metadata": {},
   "outputs": [
    {
     "name": "stdout",
     "output_type": "stream",
     "text": [
      "    month       temp      wdsp\n",
      "0     1.0   5.047258  2.000000\n",
      "1     2.0   5.231678  2.000000\n",
      "2     3.0   6.100524  2.002151\n",
      "3     4.0   8.088000  1.999722\n",
      "4     5.0  10.867245  2.000000\n",
      "5     6.0  13.610611  2.000000\n",
      "6     7.0  15.414274  2.000000\n",
      "7     8.0  14.676667  2.000000\n",
      "8     9.0  13.011500  2.001667\n",
      "9    10.0  10.680484  2.000000\n",
      "10   11.0   7.322407  2.000000\n",
      "11   12.0   5.892727  2.000000\n"
     ]
    },
    {
     "data": {
      "text/plain": [
       "<matplotlib.axes._subplots.AxesSubplot at 0x1aa419c38c8>"
      ]
     },
     "execution_count": 14,
     "metadata": {},
     "output_type": "execute_result"
    },
    {
     "data": {
      "image/png": "[encoded data removed]",
      "text/plain": [
       "<Figure size 432x288 with 1 Axes>"
      ]
     },
     "metadata": {
      "needs_background": "light"
     },
     "output_type": "display_data"
    }
   ],
   "source": [
    "import pandas as pd\n",
    "import pandas.io.sql as sqlio\n",
    "import psycopg2\n",
    "import seaborn as sns\n",
    "import matplotlib.pyplot as plt\n",
    "\n",
    "sql = \"\"\"\n",
    "SELECT\n",
    "    EXTRACT(MONTH FROM date_time) AS month,\n",
    "    AVG(temp) as temp,\n",
    "    AVG(wdsp) AS wdsp\n",
    "FROM\n",
    "    weather\n",
    "GROUP BY\n",
    "    month;\"\"\"\n",
    "try:\n",
    "    dbConnection = psycopg2.connect(\n",
    "        user = \"dap\",\n",
    "        password = \"dap\",\n",
    "        host = \"192.168.56.30\",\n",
    "        port = \"5432\",\n",
    "        database = \"weather\")\n",
    "    weather_dataframe = sqlio.read_sql_query(sql, dbConnection)\n",
    "except (Exception , psycopg2.Error) as dbError :\n",
    "    print (\"Error:\", dbError)\n",
    "finally:\n",
    "    if(dbConnection): dbConnection.close()\n",
    "\n",
    "print(weather_dataframe)\n",
    "\n",
    "sns.barplot(x=\"month\", y=\"temp\", data=weather_dataframe)"
   ]
  },
  {
   "cell_type": "markdown",
   "metadata": {},
   "source": [
    "### 6 Querying and visualising the data"
   ]
  },
  {
   "cell_type": "code",
   "execution_count": 16,
   "metadata": {},
   "outputs": [
    {
     "data": {
      "image/png": "[encoded data removed]",
      "text/plain": [
       "<Figure size 432x288 with 1 Axes>"
      ]
     },
     "metadata": {
      "needs_background": "light"
     },
     "output_type": "display_data"
    }
   ],
   "source": [
    "import pandas as pd\n",
    "import pandas.io.sql as sqlio\n",
    "import psycopg2\n",
    "import seaborn as sns\n",
    "import matplotlib.pyplot as plt\n",
    "sql = \"\"\"SELECT date(date_time) AS obs_date, MIN(temp) as temp,\n",
    "MIN(dewpt) as dewpt FROM weather GROUP BY obs_date;\"\"\"\n",
    "try:\n",
    "    dbConnection = psycopg2.connect(\n",
    "        user = \"dap\",\n",
    "        password = \"dap\",\n",
    "        host = \"192.168.56.30\",\n",
    "        port = \"5432\",\n",
    "        database = \"weather\")\n",
    "    weather_dataframe = sqlio.read_sql_query(sql, dbConnection)\n",
    "    sns.scatterplot(x=\"temp\", y=\"dewpt\", data=weather_dataframe);\n",
    "except (Exception , psycopg2.Error) as dbError :\n",
    "    print (\"Error:\", dbError)\n",
    "finally:\n",
    "    if(dbConnection): dbConnection.close()"
   ]
  },
  {
   "cell_type": "code",
   "execution_count": 15,
   "metadata": {},
   "outputs": [
    {
     "name": "stdout",
     "output_type": "stream",
     "text": [
      "    month       temp      wdsp\n",
      "0     1.0   5.047258  2.000000\n",
      "1     2.0   5.231678  2.000000\n",
      "2     3.0   6.100524  2.002151\n",
      "3     4.0   8.088000  1.999722\n",
      "4     5.0  10.867245  2.000000\n",
      "5     6.0  13.610611  2.000000\n",
      "6     7.0  15.414274  2.000000\n",
      "7     8.0  14.676667  2.000000\n",
      "8     9.0  13.011500  2.001667\n",
      "9    10.0  10.680484  2.000000\n",
      "10   11.0   7.322407  2.000000\n",
      "11   12.0   5.892727  2.000000\n"
     ]
    }
   ],
   "source": [
    "print(weather_dataframe)"
   ]
  },
  {
   "cell_type": "code",
   "execution_count": null,
   "metadata": {},
   "outputs": [],
   "source": []
  }
 ],
 "metadata": {
  "kernelspec": {
   "display_name": "Python 3",
   "language": "python",
   "name": "python3"
  },
  "language_info": {
   "codemirror_mode": {
    "name": "ipython",
    "version": 3
   },
   "file_extension": ".py",
   "mimetype": "text/x-python",
   "name": "python",
   "nbconvert_exporter": "python",
   "pygments_lexer": "ipython3",
   "version": "3.7.4"
  }
 },
 "nbformat": 4,
 "nbformat_minor": 2
}
