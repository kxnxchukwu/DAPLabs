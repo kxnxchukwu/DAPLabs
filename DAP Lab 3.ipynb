{
 "cells": [
  {
   "cell_type": "markdown",
   "metadata": {},
   "source": [
    "# DAP Lab 3"
   ]
  },
  {
   "cell_type": "markdown",
   "metadata": {},
   "source": [
    "### 1) Using a lambda expression, complete the mul_by_num function. This function should take an argument and return a one argument function that multiplies any value passed to it by the original number. Its body must be one line long:"
   ]
  },
  {
   "cell_type": "code",
   "execution_count": 1,
   "metadata": {},
   "outputs": [],
   "source": [
    "def mul_by_num(num):\n",
    "    return lambda n: n*num"
   ]
  },
  {
   "cell_type": "code",
   "execution_count": 2,
   "metadata": {},
   "outputs": [
    {
     "name": "stdout",
     "output_type": "stream",
     "text": [
      "15\n",
      "-8\n"
     ]
    }
   ],
   "source": [
    "x = mul_by_num(5)\n",
    "y = mul_by_num(2)\n",
    "print(x(3))\n",
    "print(y(-4))"
   ]
  },
  {
   "cell_type": "markdown",
   "metadata": {},
   "source": [
    "### 2) The Fibonacci numbers are the numbers in the following integer sequence.\n",
    "\n",
    "### 0, 1, 1, 2, 3, 5, 8, 13, 21, 34, 55, 89, 144, ……..\n",
    "\n",
    "### In mathematical terms, the sequence Fn of Fibonacci numbers is defined by the recurrence relation: Fn = Fn-1 + Fn-2 with seed values F0 = 0 and F1 = 1.\n",
    "\n",
    "### Write a function that takes in a number n, and gives the Fibonacci sequence. For example, fib(5) = [0, 1, 1, 2, 3] (Advanced programmers: Bonus points if you can do this using a lambda function)"
   ]
  },
  {
   "cell_type": "code",
   "execution_count": 3,
   "metadata": {},
   "outputs": [],
   "source": [
    "def fibonacci(num):\n",
    "    n = num\n",
    "    count = 1\n",
    "    a = 0\n",
    "    b = 1\n",
    "    sum = 0\n",
    "    a = 0\n",
    "    print(\"Fibonacci Series: \", end = \" \")\n",
    "    while(count <= n):\n",
    "        print(sum, end = \" \")\n",
    "        count += 1\n",
    "        a = b\n",
    "        b = sum\n",
    "        sum = a + b"
   ]
  },
  {
   "cell_type": "code",
   "execution_count": 4,
   "metadata": {},
   "outputs": [
    {
     "name": "stdout",
     "output_type": "stream",
     "text": [
      "Fibonacci Series:  0 1 1 2 3 5 8 13 21 34 55 89 144 233 377 610 987 1597 2584 4181 "
     ]
    }
   ],
   "source": [
    "fibonacci(20)"
   ]
  },
  {
   "cell_type": "markdown",
   "metadata": {},
   "source": [
    "### 3) Write a program to get the current weather of a city given in input. You can use the following API documentation: https://openweathermap.org/current\n",
    "\n",
    "### Hint: The GET request should have the following string appended at the end of the query for auth:\n",
    "\n",
    "### You should retrieve for the city:\n",
    "###    Temperature: 12.32°C\n",
    "###    Wind speed: 8.7 m/s\n",
    "###    Description: moderate rain\n",
    "###    Weather: Rain"
   ]
  },
  {
   "cell_type": "code",
   "execution_count": 5,
   "metadata": {},
   "outputs": [
    {
     "name": "stdout",
     "output_type": "stream",
     "text": [
      "Requirement already satisfied: requests in c:\\users\\kenec\\anaconda3\\lib\\site-packages (2.22.0)\n",
      "Requirement already satisfied: idna<2.9,>=2.5 in c:\\users\\kenec\\anaconda3\\lib\\site-packages (from requests) (2.8)\n",
      "Requirement already satisfied: chardet<3.1.0,>=3.0.2 in c:\\users\\kenec\\anaconda3\\lib\\site-packages (from requests) (3.0.4)\n",
      "Requirement already satisfied: urllib3!=1.25.0,!=1.25.1,<1.26,>=1.21.1 in c:\\users\\kenec\\anaconda3\\lib\\site-packages (from requests) (1.25.8)\n",
      "Requirement already satisfied: certifi>=2017.4.17 in c:\\users\\kenec\\anaconda3\\lib\\site-packages (from requests) (2019.11.28)\n"
     ]
    }
   ],
   "source": [
    "!pip install requests"
   ]
  },
  {
   "cell_type": "markdown",
   "metadata": {},
   "source": [
    "### Weather Info for Dublin."
   ]
  },
  {
   "cell_type": "code",
   "execution_count": 6,
   "metadata": {},
   "outputs": [],
   "source": [
    "import requests\n",
    "import json\n",
    "response = requests.get('http://api.openweathermap.org/data/2.5/weather?q=Dublin&appid={YOUR API KEY}')"
   ]
  },
  {
   "cell_type": "code",
   "execution_count": 7,
   "metadata": {},
   "outputs": [
    {
     "name": "stdout",
     "output_type": "stream",
     "text": [
      "200\n"
     ]
    }
   ],
   "source": [
    "print(response.status_code)"
   ]
  },
  {
   "cell_type": "code",
   "execution_count": 8,
   "metadata": {},
   "outputs": [
    {
     "name": "stdout",
     "output_type": "stream",
     "text": [
      "{\n",
      "    \"base\": \"stations\",\n",
      "    \"clouds\": {\n",
      "        \"all\": 1\n",
      "    },\n",
      "    \"cod\": 200,\n",
      "    \"coord\": {\n",
      "        \"lat\": 37.7,\n",
      "        \"lon\": -121.94\n",
      "    },\n",
      "    \"dt\": 1602708865,\n",
      "    \"id\": 5344157,\n",
      "    \"main\": {\n",
      "        \"feels_like\": 300.71,\n",
      "        \"humidity\": 19,\n",
      "        \"pressure\": 1019,\n",
      "        \"temp\": 304.08,\n",
      "        \"temp_max\": 306.48,\n",
      "        \"temp_min\": 300.93\n",
      "    },\n",
      "    \"name\": \"Dublin\",\n",
      "    \"sys\": {\n",
      "        \"country\": \"US\",\n",
      "        \"id\": 4774,\n",
      "        \"sunrise\": 1602684930,\n",
      "        \"sunset\": 1602725482,\n",
      "        \"type\": 1\n",
      "    },\n",
      "    \"timezone\": -25200,\n",
      "    \"visibility\": 10000,\n",
      "    \"weather\": [\n",
      "        {\n",
      "            \"description\": \"clear sky\",\n",
      "            \"icon\": \"01d\",\n",
      "            \"id\": 800,\n",
      "            \"main\": \"Clear\"\n",
      "        }\n",
      "    ],\n",
      "    \"wind\": {\n",
      "        \"deg\": 360,\n",
      "        \"speed\": 3.1\n",
      "    }\n",
      "}\n"
     ]
    }
   ],
   "source": [
    "print (json.dumps(response.json(), indent=4, sort_keys=True))"
   ]
  },
  {
   "cell_type": "markdown",
   "metadata": {},
   "source": [
    "### 4) Write a program to read the xml file people.xml and output a csv file and json file with the same information. \n",
    "\n",
    "### Validate the Json using https://jsonlint.com/\n",
    "\n",
    "### Import the CSV using Excel"
   ]
  },
  {
   "cell_type": "markdown",
   "metadata": {},
   "source": [
    "#### Converting XML to JSON"
   ]
  },
  {
   "cell_type": "code",
   "execution_count": 9,
   "metadata": {},
   "outputs": [
    {
     "name": "stdout",
     "output_type": "stream",
     "text": [
      "Requirement already satisfied: xmltodict in c:\\users\\kenec\\anaconda3\\lib\\site-packages (0.12.0)\n"
     ]
    }
   ],
   "source": [
    "!pip install xmltodict"
   ]
  },
  {
   "cell_type": "code",
   "execution_count": 10,
   "metadata": {},
   "outputs": [],
   "source": [
    "import json \n",
    "import xmltodict \n",
    "  \n",
    "# open the input xml file and read \n",
    "# data in form of python dictionary  \n",
    "# using xmltodict module \n",
    "with open(\"people.xml\") as xml_file: \n",
    "      \n",
    "    data_dict = xmltodict.parse(xml_file.read()) \n",
    "    xml_file.close() \n",
    "      \n",
    "    # generate the object using json.dumps()  \n",
    "    # corresponding to json data \n",
    "      \n",
    "    json_data = json.dumps(data_dict)"
   ]
  },
  {
   "cell_type": "markdown",
   "metadata": {},
   "source": [
    "#### Save JSON File"
   ]
  },
  {
   "cell_type": "code",
   "execution_count": 11,
   "metadata": {},
   "outputs": [],
   "source": [
    "with open(\"people.json\", \"w\") as json_file: \n",
    "        json_file.write(json_data) \n",
    "        json_file.close() "
   ]
  },
  {
   "cell_type": "markdown",
   "metadata": {},
   "source": [
    "#### Read JSON File"
   ]
  },
  {
   "cell_type": "code",
   "execution_count": 12,
   "metadata": {},
   "outputs": [],
   "source": [
    "with open('people.json') as json_data:\n",
    "    details = json.load(json_data)\n",
    "user_data = details['State']['Resident']\n"
   ]
  },
  {
   "cell_type": "code",
   "execution_count": 13,
   "metadata": {},
   "outputs": [
    {
     "data": {
      "text/html": [
       "<div>\n",
       "<style scoped>\n",
       "    .dataframe tbody tr th:only-of-type {\n",
       "        vertical-align: middle;\n",
       "    }\n",
       "\n",
       "    .dataframe tbody tr th {\n",
       "        vertical-align: top;\n",
       "    }\n",
       "\n",
       "    .dataframe thead th {\n",
       "        text-align: right;\n",
       "    }\n",
       "</style>\n",
       "<table border=\"1\" class=\"dataframe\">\n",
       "  <thead>\n",
       "    <tr style=\"text-align: right;\">\n",
       "      <th></th>\n",
       "      <th>ID</th>\n",
       "      <th>Name</th>\n",
       "      <th>PhoneNumber</th>\n",
       "      <th>EmailAddress</th>\n",
       "      <th>Address</th>\n",
       "      <th>City</th>\n",
       "      <th>StateCode</th>\n",
       "      <th>PostalCode</th>\n",
       "    </tr>\n",
       "  </thead>\n",
       "  <tbody>\n",
       "    <tr>\n",
       "      <th>0</th>\n",
       "      <td>100</td>\n",
       "      <td>Sample Name</td>\n",
       "      <td>12345642357891</td>\n",
       "      <td>sample_name@example.com</td>\n",
       "      <td>Street Line1</td>\n",
       "      <td>City Name</td>\n",
       "      <td>AE</td>\n",
       "      <td>12345</td>\n",
       "    </tr>\n",
       "    <tr>\n",
       "      <th>1</th>\n",
       "      <td>101</td>\n",
       "      <td>Sample Name1</td>\n",
       "      <td>1234567891</td>\n",
       "      <td>sample_name1@example.com</td>\n",
       "      <td>Current Address</td>\n",
       "      <td>Los Angeles</td>\n",
       "      <td>CA</td>\n",
       "      <td>56666</td>\n",
       "    </tr>\n",
       "    <tr>\n",
       "      <th>2</th>\n",
       "      <td>103</td>\n",
       "      <td>Sample Name2</td>\n",
       "      <td>1234567891</td>\n",
       "      <td>sample_name1@example.com</td>\n",
       "      <td>Current Address</td>\n",
       "      <td>Los Angeles</td>\n",
       "      <td>CA</td>\n",
       "      <td>56666</td>\n",
       "    </tr>\n",
       "    <tr>\n",
       "      <th>3</th>\n",
       "      <td>104</td>\n",
       "      <td>Sample Name3</td>\n",
       "      <td>1234567891</td>\n",
       "      <td>sample_name1@example.com</td>\n",
       "      <td>Current Address</td>\n",
       "      <td>Los Angeles</td>\n",
       "      <td>CA</td>\n",
       "      <td>56666</td>\n",
       "    </tr>\n",
       "    <tr>\n",
       "      <th>4</th>\n",
       "      <td>105</td>\n",
       "      <td>Sample Name4</td>\n",
       "      <td>1234567891</td>\n",
       "      <td>sample_name1@example.com</td>\n",
       "      <td>Current Address</td>\n",
       "      <td>Los Angeles</td>\n",
       "      <td>CA</td>\n",
       "      <td>56666</td>\n",
       "    </tr>\n",
       "    <tr>\n",
       "      <th>5</th>\n",
       "      <td>106</td>\n",
       "      <td>Sample Name5</td>\n",
       "      <td>1234567891</td>\n",
       "      <td>sample_name1@example.com</td>\n",
       "      <td>Current Address</td>\n",
       "      <td>Los Angeles</td>\n",
       "      <td>CA</td>\n",
       "      <td>56666</td>\n",
       "    </tr>\n",
       "    <tr>\n",
       "      <th>6</th>\n",
       "      <td>107</td>\n",
       "      <td>Sample Name6</td>\n",
       "      <td>1234567891</td>\n",
       "      <td>sample_name1@example.com</td>\n",
       "      <td>Current Address</td>\n",
       "      <td>Los Angeles</td>\n",
       "      <td>CA</td>\n",
       "      <td>56666</td>\n",
       "    </tr>\n",
       "    <tr>\n",
       "      <th>7</th>\n",
       "      <td>108</td>\n",
       "      <td>Sample Name7</td>\n",
       "      <td>1234567891</td>\n",
       "      <td>sample_name1@example.com</td>\n",
       "      <td>Current Address</td>\n",
       "      <td>Los Angeles</td>\n",
       "      <td>CA</td>\n",
       "      <td>56666</td>\n",
       "    </tr>\n",
       "  </tbody>\n",
       "</table>\n",
       "</div>"
      ],
      "text/plain": [
       "    ID          Name     PhoneNumber              EmailAddress  \\\n",
       "0  100   Sample Name  12345642357891   sample_name@example.com   \n",
       "1  101  Sample Name1      1234567891  sample_name1@example.com   \n",
       "2  103  Sample Name2      1234567891  sample_name1@example.com   \n",
       "3  104  Sample Name3      1234567891  sample_name1@example.com   \n",
       "4  105  Sample Name4      1234567891  sample_name1@example.com   \n",
       "5  106  Sample Name5      1234567891  sample_name1@example.com   \n",
       "6  107  Sample Name6      1234567891  sample_name1@example.com   \n",
       "7  108  Sample Name7      1234567891  sample_name1@example.com   \n",
       "\n",
       "           Address         City StateCode PostalCode  \n",
       "0     Street Line1    City Name        AE      12345  \n",
       "1  Current Address  Los Angeles        CA      56666  \n",
       "2  Current Address  Los Angeles        CA      56666  \n",
       "3  Current Address  Los Angeles        CA      56666  \n",
       "4  Current Address  Los Angeles        CA      56666  \n",
       "5  Current Address  Los Angeles        CA      56666  \n",
       "6  Current Address  Los Angeles        CA      56666  \n",
       "7  Current Address  Los Angeles        CA      56666  "
      ]
     },
     "execution_count": 13,
     "metadata": {},
     "output_type": "execute_result"
    }
   ],
   "source": [
    "import pandas as pd\n",
    "# define the dataframe columns\n",
    "column_names = ['ID', 'Name', 'PhoneNumber', 'EmailAddress', 'Address', 'City', 'StateCode', 'PostalCode'] \n",
    "\n",
    "# instantiate the dataframe\n",
    "user_details = pd.DataFrame(columns=column_names)\n",
    "for data in user_data:\n",
    "    ID = data['@Id']\n",
    "    user_name = data['Name']\n",
    "    user_ph = data['PhoneNumber']    \n",
    "    user_email = data['EmailAddress']\n",
    "    user_address = data['Address']['StreetLine1']\n",
    "    user_city = data['Address']['City']\n",
    "    user_state = data['Address']['StateCode']\n",
    "    user_post = data['Address']['PostalCode']\n",
    "    \n",
    "    user_details = user_details.append({'ID': ID,\n",
    "                                          'Name': user_name,\n",
    "                                          'PhoneNumber': user_ph,\n",
    "                                          'EmailAddress' : user_email,\n",
    "                                          'Address': user_address,\n",
    "                                          'City': user_city,\n",
    "                                          'StateCode': user_state,\n",
    "                                          'PostalCode': user_post}, ignore_index=True)\n",
    "user_details"
   ]
  },
  {
   "cell_type": "markdown",
   "metadata": {},
   "source": [
    "#### Convert and Save CSV"
   ]
  },
  {
   "cell_type": "code",
   "execution_count": 14,
   "metadata": {},
   "outputs": [],
   "source": [
    "user_details.to_csv('people.csv')"
   ]
  }
 ],
 "metadata": {
  "kernelspec": {
   "display_name": "Python 3",
   "language": "python",
   "name": "python3"
  },
  "language_info": {
   "codemirror_mode": {
    "name": "ipython",
    "version": 3
   },
   "file_extension": ".py",
   "mimetype": "text/x-python",
   "name": "python",
   "nbconvert_exporter": "python",
   "pygments_lexer": "ipython3",
   "version": "3.7.6"
  }
 },
 "nbformat": 4,
 "nbformat_minor": 4
}
